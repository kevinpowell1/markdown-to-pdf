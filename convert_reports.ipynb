{
 "cells": [
  {
   "cell_type": "code",
   "execution_count": 5,
   "metadata": {},
   "outputs": [],
   "source": [
    "import os\n",
    "import markdown\n",
    "import pdfkit\n",
    "from lxml import etree\n",
    "from datetime import datetime\n",
    "import re\n",
    "\n",
    "\n",
    "migration_fol = \"migration_newhaven\"\n",
    "client = \"University of New haven\"\n",
    "iteration = \"iteration_0\"\n",
    "timestamp = datetime.strftime(datetime.now(), \"%Y%m%d\")\n",
    "\n",
    "base_path = f\"/Users/kpowell1/Documents/GitHub/_migration-clients/{migration_fol}/iterations/{iteration}/reports\"\n",
    "new_folder = os.path.join(base_path, \"pdf_versions\", iteration)\n",
    "if not os.path.exists(new_folder): os.makedirs(new_folder)"
   ]
  },
  {
   "cell_type": "code",
   "execution_count": 6,
   "metadata": {},
   "outputs": [
    {
     "name": "stdout",
     "output_type": "stream",
     "text": [
      "20240131_report_01_transform_users.pdf\n",
      "20240131_report_02_post_users.pdf\n"
     ]
    }
   ],
   "source": [
    "md_files = [f.path for f in os.scandir(base_path) if f.name.endswith('md')]\n",
    "\n",
    "def replace_tags(text, tags):\n",
    "    for tag in tags:\n",
    "        text = text.replace(f\"<{tag}>\", \"\")\n",
    "        text = text.replace(f\"</{tag}>\", \"\")\n",
    "    return text\n",
    "\n",
    "def generate_pdf(fp):\n",
    "    with open(fp, mode='r', encoding='utf-8') as input_file:\n",
    "        text = input_file.read()\n",
    "        gen_stats = \"## General statistics\"\n",
    "        text = text.replace(gen_stats, f\"\\n{gen_stats}\")\n",
    "    f = re.findall(r\"##\\s[^\\w]\", text)\n",
    "    if (f):\n",
    "        text = text.replace(f[0], \"\\n## Success rate\\n\")\n",
    "    fn = os.path.basename(fp).replace(\".md\", \".pdf\")\n",
    "    new_fp = os.path.join(new_folder, f\"{timestamp}_{fn}\")\n",
    "    new_fp = new_fp.replace(\"_transform\", \"_01_transform\")\n",
    "    new_fp = new_fp.replace(\"_post\", \"_02_post\")\n",
    "    text = replace_tags(text, [\"details\", \"summary\", \"b\", \"string\"])\n",
    "    html = markdown.markdown(text, extensions=['tables'])\n",
    "    html_tree = etree.ElementTree(etree.fromstring(f\"<html>{html}</html>\"))\n",
    "    tags_to_remove=[\"p\"]\n",
    "    for tag in tags_to_remove:\n",
    "        tag_arr = html_tree.findall(f'.//{tag}')\n",
    "        for t in tag_arr:\n",
    "            parent = t.getparent()\n",
    "            parent.remove(t)\n",
    "    html_string = etree.tostring(html_tree).decode('utf-8')\n",
    "    print(os.path.basename(new_fp))\n",
    "    pdfkit.from_string(\n",
    "        html_string, \n",
    "        new_fp, \n",
    "        options={\n",
    "            \"header-spacing\": 7,\n",
    "            \"margin-top\":\"2cm\",\n",
    "            \"header-left\": f\"{iteration}\",\n",
    "            \"header-center\":f\"[section] ({client})\",\n",
    "            \"header-right\":\"[page]/[toPage]\",\n",
    "            \"header-line\":True,\n",
    "            \"footer-center\":\"EBSCO Information Services | kpowell1@ebsco.com | [isodate]\",\n",
    "            \"footer-spacing\":3,\n",
    "            \"footer-font-size\":8,\n",
    "            \"header-font-size\":10\n",
    "        },\n",
    "        css=\"report.css\"\n",
    "    )\n",
    "\n",
    "for f in md_files:\n",
    "    generate_pdf(f)"
   ]
  }
 ],
 "metadata": {
  "kernelspec": {
   "display_name": "markdown-to-pdf-ivUn2Nxk",
   "language": "python",
   "name": "python3"
  },
  "language_info": {
   "codemirror_mode": {
    "name": "ipython",
    "version": 3
   },
   "file_extension": ".py",
   "mimetype": "text/x-python",
   "name": "python",
   "nbconvert_exporter": "python",
   "pygments_lexer": "ipython3",
   "version": "3.10.13"
  }
 },
 "nbformat": 4,
 "nbformat_minor": 2
}
